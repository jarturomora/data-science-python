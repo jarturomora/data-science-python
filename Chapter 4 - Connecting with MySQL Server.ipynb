{
 "cells": [
  {
   "cell_type": "code",
   "execution_count": 1,
   "metadata": {
    "collapsed": true
   },
   "outputs": [],
   "source": [
    "# Initial imports\n",
    "import pymysql"
   ]
  },
  {
   "cell_type": "code",
   "execution_count": 2,
   "metadata": {
    "collapsed": true
   },
   "outputs": [],
   "source": [
    "# Connection to the database\n",
    "conn = pymysql.connect(host=\"localhost\", port=3306, user=\"dbuser\", passwd=\"badpassw0rd\", db=\"employees\")"
   ]
  },
  {
   "cell_type": "code",
   "execution_count": 3,
   "metadata": {
    "collapsed": true
   },
   "outputs": [],
   "source": [
    "# Create a cursor to send queries\n",
    "cur = conn.cursor()"
   ]
  },
  {
   "cell_type": "code",
   "execution_count": 9,
   "metadata": {
    "collapsed": false
   },
   "outputs": [
    {
     "data": {
      "text/plain": [
       "98585"
      ]
     },
     "execution_count": 9,
     "metadata": {},
     "output_type": "execute_result"
    }
   ],
   "source": [
    "# Execute a SELECT query\n",
    "query = \"\"\"\n",
    "        SELECT concat(last_name, ', ', first_name) as full_name, gender\n",
    "        FROM employees\n",
    "        WHERE gender = 'M' and hire_date < '1990-01-01'\n",
    "        \"\"\"\n",
    "\n",
    "n_rows = cur.execute(query)\n",
    "n_rows"
   ]
  },
  {
   "cell_type": "code",
   "execution_count": 11,
   "metadata": {
    "collapsed": false
   },
   "outputs": [],
   "source": [
    "# List results\n",
    "results = list(cur.fetchall())"
   ]
  },
  {
   "cell_type": "code",
   "execution_count": 12,
   "metadata": {
    "collapsed": false
   },
   "outputs": [
    {
     "data": {
      "text/plain": [
       "98585"
      ]
     },
     "execution_count": 12,
     "metadata": {},
     "output_type": "execute_result"
    }
   ],
   "source": [
    "len(results)"
   ]
  },
  {
   "cell_type": "code",
   "execution_count": 16,
   "metadata": {
    "collapsed": false
   },
   "outputs": [
    {
     "data": {
      "text/plain": [
       "[('Facello, Georgi', 'M'),\n",
       " ('Bamford, Parto', 'M'),\n",
       " ('Koblick, Chirstian', 'M'),\n",
       " ('Maliniak, Kyoichi', 'M'),\n",
       " ('Terkki, Eberhardt', 'M'),\n",
       " ('Genin, Berni', 'M'),\n",
       " ('Nooteboom, Guoxiang', 'M'),\n",
       " ('Erde, Ramzi', 'M'),\n",
       " ('Heyers, Prasadram', 'M'),\n",
       " ('Herbst, Otmar', 'M')]"
      ]
     },
     "execution_count": 16,
     "metadata": {},
     "output_type": "execute_result"
    }
   ],
   "source": [
    "results[0:10]"
   ]
  },
  {
   "cell_type": "code",
   "execution_count": null,
   "metadata": {
    "collapsed": true
   },
   "outputs": [],
   "source": []
  }
 ],
 "metadata": {
  "anaconda-cloud": {},
  "kernelspec": {
   "display_name": "Python [conda env:py35]",
   "language": "python",
   "name": "conda-env-py35-py"
  },
  "language_info": {
   "codemirror_mode": {
    "name": "ipython",
    "version": 3
   },
   "file_extension": ".py",
   "mimetype": "text/x-python",
   "name": "python",
   "nbconvert_exporter": "python",
   "pygments_lexer": "ipython3",
   "version": "3.5.2"
  }
 },
 "nbformat": 4,
 "nbformat_minor": 1
}
