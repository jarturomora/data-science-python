{
 "cells": [
  {
   "cell_type": "code",
   "execution_count": 1,
   "metadata": {
    "collapsed": true
   },
   "outputs": [],
   "source": [
    "# Initial imports\n",
    "import pymongo as mongo"
   ]
  },
  {
   "cell_type": "code",
   "execution_count": 2,
   "metadata": {
    "collapsed": true
   },
   "outputs": [],
   "source": [
    "# Initialize server connection for localhost\n",
    "client1 = mongo.MongoClient()"
   ]
  },
  {
   "cell_type": "code",
   "execution_count": 3,
   "metadata": {
    "collapsed": true
   },
   "outputs": [],
   "source": [
    "# Create / connect to a database\n",
    "db = client1.dsdb"
   ]
  },
  {
   "cell_type": "code",
   "execution_count": 4,
   "metadata": {
    "collapsed": true
   },
   "outputs": [],
   "source": [
    "# Create / select a collection\n",
    "people = db.people"
   ]
  },
  {
   "cell_type": "code",
   "execution_count": 5,
   "metadata": {
    "collapsed": true
   },
   "outputs": [],
   "source": [
    "# Entry some documents to the people collection\n",
    "\n",
    "# Create documents\n",
    "person1 = {\"empname\": \"John Smith\", \"dob\": \"1957-12-24\"}\n",
    "person2 = {\"_id\": \"XVT162\", \"empname\": \"Jane Doe\", \"dob\": \"1964-05-16\"}"
   ]
  },
  {
   "cell_type": "code",
   "execution_count": 14,
   "metadata": {
    "collapsed": false
   },
   "outputs": [],
   "source": [
    "# Insert documents one by one\n",
    "person_id1 = people.insert_one(person1).inserted_id"
   ]
  },
  {
   "cell_type": "code",
   "execution_count": 20,
   "metadata": {
    "collapsed": false
   },
   "outputs": [],
   "source": [
    "person_id1 = people.insert_one(person2).inserted_id"
   ]
  },
  {
   "cell_type": "code",
   "execution_count": 23,
   "metadata": {
    "collapsed": false
   },
   "outputs": [],
   "source": [
    "# Insert documents, many at once\n",
    "persons = [{\"empname\": \"Abe Lincoln\", \"dob\": \"1809-02-12\"},\n",
    "           {\"empname\": \"Annon I. Muss\"}]"
   ]
  },
  {
   "cell_type": "code",
   "execution_count": 24,
   "metadata": {
    "collapsed": true
   },
   "outputs": [],
   "source": [
    "result = people.insert_many(persons)"
   ]
  },
  {
   "cell_type": "code",
   "execution_count": 25,
   "metadata": {
    "collapsed": false
   },
   "outputs": [
    {
     "data": {
      "text/plain": [
       "[ObjectId('5808f2a83a58655c95f90750'), ObjectId('5808f2a83a58655c95f90751')]"
      ]
     },
     "execution_count": 25,
     "metadata": {},
     "output_type": "execute_result"
    }
   ],
   "source": [
    "result.inserted_ids"
   ]
  },
  {
   "cell_type": "code",
   "execution_count": 26,
   "metadata": {
    "collapsed": false
   },
   "outputs": [
    {
     "data": {
      "text/plain": [
       "[{'_id': ObjectId('5808f0d93a58655c95f9074f'),\n",
       "  'dob': '1957-12-24',\n",
       "  'empname': 'John Smith'},\n",
       " {'_id': 'XVT162', 'dob': '1964-05-16', 'empname': 'Jane Doe'},\n",
       " {'_id': ObjectId('5808f2a83a58655c95f90750'),\n",
       "  'dob': '1809-02-12',\n",
       "  'empname': 'Abe Lincoln'},\n",
       " {'_id': ObjectId('5808f2a83a58655c95f90751'), 'empname': 'Annon I. Muss'}]"
      ]
     },
     "execution_count": 26,
     "metadata": {},
     "output_type": "execute_result"
    }
   ],
   "source": [
    "# List all documents\n",
    "everyone = people.find()\n",
    "list(everyone)"
   ]
  },
  {
   "cell_type": "code",
   "execution_count": 28,
   "metadata": {
    "collapsed": false
   },
   "outputs": [
    {
     "data": {
      "text/plain": [
       "[{'_id': 'XVT162', 'dob': '1964-05-16', 'empname': 'Jane Doe'}]"
      ]
     },
     "execution_count": 28,
     "metadata": {},
     "output_type": "execute_result"
    }
   ],
   "source": [
    "# Find a specific document\n",
    "list(people.find({\"dob\": \"1964-05-16\"}))"
   ]
  },
  {
   "cell_type": "code",
   "execution_count": 19,
   "metadata": {
    "collapsed": false
   },
   "outputs": [
    {
     "data": {
      "text/plain": [
       "<pymongo.results.DeleteResult at 0x7f29647a2630>"
      ]
     },
     "execution_count": 19,
     "metadata": {},
     "output_type": "execute_result"
    }
   ],
   "source": [
    "people.delete_one({\"empname\": \"Jane Doe\"})"
   ]
  },
  {
   "cell_type": "code",
   "execution_count": 30,
   "metadata": {
    "collapsed": false
   },
   "outputs": [
    {
     "data": {
      "text/plain": [
       "[{'_id': ObjectId('5808f2a83a58655c95f90750'),\n",
       "  'dob': '1809-02-12',\n",
       "  'empname': 'Abe Lincoln'},\n",
       " {'_id': ObjectId('5808f2a83a58655c95f90751'), 'empname': 'Annon I. Muss'},\n",
       " {'_id': 'XVT162', 'dob': '1964-05-16', 'empname': 'Jane Doe'},\n",
       " {'_id': ObjectId('5808f0d93a58655c95f9074f'),\n",
       "  'dob': '1957-12-24',\n",
       "  'empname': 'John Smith'}]"
      ]
     },
     "execution_count": 30,
     "metadata": {},
     "output_type": "execute_result"
    }
   ],
   "source": [
    "# Sort results by empname\n",
    "list(people.find().sort(\"empname\"))"
   ]
  },
  {
   "cell_type": "code",
   "execution_count": 31,
   "metadata": {
    "collapsed": false
   },
   "outputs": [
    {
     "data": {
      "text/plain": [
       "4"
      ]
     },
     "execution_count": 31,
     "metadata": {},
     "output_type": "execute_result"
    }
   ],
   "source": [
    "people.count()"
   ]
  }
 ],
 "metadata": {
  "anaconda-cloud": {},
  "kernelspec": {
   "display_name": "Python [conda env:py35]",
   "language": "python",
   "name": "conda-env-py35-py"
  },
  "language_info": {
   "codemirror_mode": {
    "name": "ipython",
    "version": 3
   },
   "file_extension": ".py",
   "mimetype": "text/x-python",
   "name": "python",
   "nbconvert_exporter": "python",
   "pygments_lexer": "ipython3",
   "version": "3.5.2"
  }
 },
 "nbformat": 4,
 "nbformat_minor": 1
}
